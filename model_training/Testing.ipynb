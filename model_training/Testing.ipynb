{
  "nbformat": 4,
  "nbformat_minor": 0,
  "metadata": {
    "colab": {
      "provenance": []
    },
    "kernelspec": {
      "name": "python3",
      "display_name": "Python 3"
    },
    "language_info": {
      "name": "python"
    }
  },
  "cells": [
    {
      "cell_type": "markdown",
      "source": [
        "# Testing for T5-small"
      ],
      "metadata": {
        "id": "LWnwt7KRI0nF"
      }
    },
    {
      "cell_type": "code",
      "execution_count": null,
      "metadata": {
        "id": "pVYA2F6XrX0F"
      },
      "outputs": [],
      "source": [
        "import torch\n",
        "from transformers import T5ForConditionalGeneration, T5Tokenizer\n",
        "\n",
        "model_path = \"./T5_small/checkpoint-30894\"\n",
        "token_path = \"./T5_small/\"\n",
        "\n",
        "tokenizer = T5Tokenizer.from_pretrained(token_path)\n",
        "model = T5ForConditionalGeneration.from_pretrained(model_path)"
      ]
    },
    {
      "cell_type": "code",
      "source": [
        "def generate_paraphrases(input_text, num_return_sequences=3, num_beams=5):\n",
        "    device = torch.device(\"cuda\" if torch.cuda.is_available() else \"cpu\")\n",
        "    model.to(device)\n",
        "\n",
        "    encoding = tokenizer(input_text, return_tensors=\"pt\", padding=True, truncation=True)\n",
        "    input_ids = encoding[\"input_ids\"].to(device)\n",
        "\n",
        "    outputs = model.generate(\n",
        "        input_ids=input_ids,\n",
        "        max_length=128,\n",
        "        num_beams=num_beams,\n",
        "        num_return_sequences=num_return_sequences,\n",
        "        early_stopping=True,\n",
        "    )\n",
        "\n",
        "    paraphrases = [\n",
        "        tokenizer.decode(output, skip_special_tokens=True, clean_up_tokenization_spaces=True)\n",
        "        for output in outputs\n",
        "    ]\n",
        "    return paraphrases"
      ],
      "metadata": {
        "id": "MOLXsqb0tTOo"
      },
      "execution_count": null,
      "outputs": []
    },
    {
      "cell_type": "code",
      "source": [
        "questions = [\n",
        "    \"What are the primary ramifications of implementing artificial intelligence in critical decision-making sectors such as healthcare and criminal justice?\",\n",
        "    \"In what ways does globalization exacerbate socioeconomic disparities across various geopolitical regions?\",\n",
        "    \"How does the proliferation of misinformation on social media platforms undermine democratic institutions and public discourse?\",\n",
        "    \"What are the ethical implications of utilizing gene-editing technologies like CRISPR in human embryos?\",\n",
        "    \"How can sustainable urban development be achieved without compromising economic growth and infrastructural expansion?\",\n",
        "    \"What are the cognitive and psychological consequences of excessive screen time among adolescents in the digital age?\",\n",
        "    \"To what extent does climate change influence the frequency and intensity of meteorological anomalies worldwide?\",\n",
        "    \"How do multinational corporations navigate complex regulatory environments while maintaining corporate social responsibility?\",\n",
        "    \"In what manner does linguistic relativism affect cross-cultural communication and perception?\",\n",
        "    \"What are the long-term economic repercussions of widespread automation on labor markets and income inequality?\",\n",
        "    \"Suppose Earth's gravity were 10% weaker—what changes would you predict in human anatomy, architecture, and transportation?\",\n",
        "    \"Representatives for the National Rifle Association did not respond to a request for comment.\"\n",
        "]\n",
        "\n",
        "for question in questions:\n",
        "    generated_paraphrases = generate_paraphrases(question, num_return_sequences=3, num_beams=5)\n",
        "    print(f\"Question: {question}\")\n",
        "    print(\"Generated Paraphrases:\")\n",
        "    for idx, para in enumerate(generated_paraphrases, 1):\n",
        "        print(f\"{idx}: {para}\")\n",
        "    print(\"\\n\")"
      ],
      "metadata": {
        "colab": {
          "base_uri": "https://localhost:8080/"
        },
        "id": "zssdMzF3x0qx",
        "outputId": "ae1d796a-7873-439b-8e5e-3a170d7aa9fc"
      },
      "execution_count": null,
      "outputs": [
        {
          "output_type": "stream",
          "name": "stdout",
          "text": [
            "Question: What are the primary ramifications of implementing artificial intelligence in critical decision-making sectors such as healthcare and criminal justice?\n",
            "Generated Paraphrases:\n",
            "1: What are the primary ramifications of implementing artificial intelligence in critical decision-making sectors such as healthcare and criminal justice?\n",
            "2: What are the primary ramifications of implementing artificial intelligence in critical decision-making sectors like healthcare and criminal justice?\n",
            "3: What are the primary implications of implementing artificial intelligence in critical decision-making sectors such as healthcare and criminal justice?\n",
            "\n",
            "\n",
            "Question: In what ways does globalization exacerbate socioeconomic disparities across various geopolitical regions?\n",
            "Generated Paraphrases:\n",
            "1: In what ways does globalization contribute to the decrease in socioeconomic disparities across various geopolitical regions?\n",
            "2: In what ways does globalization contribute to the decrease in socioeconomic disparities across different geopolitical regions?\n",
            "3: In what ways does globalization contribute to the reduction of socioeconomic disparities across various geopolitical regions?\n",
            "\n",
            "\n",
            "Question: How does the proliferation of misinformation on social media platforms undermine democratic institutions and public discourse?\n",
            "Generated Paraphrases:\n",
            "1: In what ways does the proliferation of misinformation on social media platforms impact democratic institutions and public discourse?\n",
            "2: In what ways does the proliferation of misinformation on social media platforms undermine democratic institutions and public discourse?\n",
            "3: How does the proliferation of misinformation on social media platforms impact democratic institutions and public discourse?\n",
            "\n",
            "\n",
            "Question: What are the ethical implications of utilizing gene-editing technologies like CRISPR in human embryos?\n",
            "Generated Paraphrases:\n",
            "1: What are the ethical implications of using gene-editing technologies like CRISPR in human embryos?\n",
            "2: What are the ethical implications of using gene-editing technologies such as CRISPR in human embryos?\n",
            "3: What are the ethical implications of utilizing gene-editing technologies like CRISPR in human embryos?\n",
            "\n",
            "\n",
            "Question: How can sustainable urban development be achieved without compromising economic growth and infrastructural expansion?\n",
            "Generated Paraphrases:\n",
            "1: How can sustainable urban development be achieved without compromising economic growth and infrastructural expansion?\n",
            "2: In what ways can sustainable urban development be achieved without compromising economic growth and infrastructural expansion?\n",
            "3: How can sustainable urban development be managed without compromising economic growth and infrastructural expansion?\n",
            "\n",
            "\n",
            "Question: What are the cognitive and psychological consequences of excessive screen time among adolescents in the digital age?\n",
            "Generated Paraphrases:\n",
            "1: What are the cognitive and psychological effects of excessive screen time among adolescents in the digital age?\n",
            "2: What are the cognitive and psychological consequences of excessive screen time among adolescents in the digital age?\n",
            "3: In the digital age, what are the cognitive and psychological effects of excessive screen time for adolescents?\n",
            "\n",
            "\n",
            "Question: To what extent does climate change influence the frequency and intensity of meteorological anomalies worldwide?\n",
            "Generated Paraphrases:\n",
            "1: To what extent does climate change influence the frequency and intensity of meteorological anomalies worldwide?\n",
            "2: How does climate change influence the frequency and intensity of meteorological anomalies worldwide?\n",
            "3: To what extent does climate change impact the frequency and intensity of meteorological anomalies worldwide?\n",
            "\n",
            "\n",
            "Question: How do multinational corporations navigate complex regulatory environments while maintaining corporate social responsibility?\n",
            "Generated Paraphrases:\n",
            "1: How do multinational corporations navigate complex regulatory environments while maintaining corporate social responsibility?\n",
            "2: In what ways do multinational corporations navigate complex regulatory environments while maintaining corporate social responsibility?\n",
            "3: What strategies do multinational corporations employ to navigate complex regulatory environments while maintaining corporate social responsibility?\n",
            "\n",
            "\n",
            "Question: In what manner does linguistic relativism affect cross-cultural communication and perception?\n",
            "Generated Paraphrases:\n",
            "1: How does linguistic relativism impact cross-cultural communication and perception?\n",
            "2: In what ways does linguistic relativism impact cross-cultural communication and perception?\n",
            "3: How does linguistic relativism influence cross-cultural communication and perception?\n",
            "\n",
            "\n",
            "Question: What are the long-term economic repercussions of widespread automation on labor markets and income inequality?\n",
            "Generated Paraphrases:\n",
            "1: What are the long-term economic repercussions of widespread automation on labor markets and income inequality?\n",
            "2: How does widespread automation impact labor markets and income inequality in the long-term economic repercussions?\n",
            "3: In what ways does widespread automation impact labor markets and income inequality in the long term?\n",
            "\n",
            "\n",
            "Question: Suppose Earth's gravity were 10% weaker—what changes would you predict in human anatomy, architecture, and transportation?\n",
            "Generated Paraphrases:\n",
            "1: In the event that Earth's gravity was 10% weaker, what changes would you anticipate in human anatomy, architecture, and transportation based on human anatomy, architecture, and transportation?\n",
            "2: In the event that Earth's gravity was 10% weaker, what changes would you anticipate in human anatomy, architecture, and transportation if the Earth's gravity were 10% weaker?\n",
            "3: In the event that Earth's gravity was 10% weaker, what changes would you anticipate in human anatomy, architecture, and transportation if the Earth's gravity was 10% weaker?\n",
            "\n",
            "\n",
            "Question: Representatives for the National Rifle Association did not respond to a request for comment.\n",
            "Generated Paraphrases:\n",
            "1: Did the National Rifle Association not respond to a request for comment by the National Rifle Association Representatives?\n",
            "2: Did the National Rifle Association not respond to a request for comment from the National Rifle Association Representatives?\n",
            "3: Did the National Rifle Association's National Rifle Association not respond to a request for comment?\n",
            "\n",
            "\n"
          ]
        }
      ]
    },
    {
      "cell_type": "markdown",
      "source": [
        "# Testing for T5-base"
      ],
      "metadata": {
        "id": "H7K4w5bOJUR_"
      }
    },
    {
      "cell_type": "code",
      "source": [
        "model_path = \"./T5_base/\"\n",
        "token_path = \"./T5_base/tokenizer\"\n",
        "\n",
        "tokenizer = T5Tokenizer.from_pretrained(token_path)\n",
        "model = T5ForConditionalGeneration.from_pretrained(model_path)"
      ],
      "metadata": {
        "id": "OoPjI2GgH01N"
      },
      "execution_count": null,
      "outputs": []
    },
    {
      "cell_type": "code",
      "source": [
        "questions = [\n",
        "    \"What are the primary ramifications of implementing artificial intelligence in critical decision-making sectors such as healthcare and criminal justice?\",\n",
        "    \"In what ways does globalization exacerbate socioeconomic disparities across various geopolitical regions?\",\n",
        "    \"How does the proliferation of misinformation on social media platforms undermine democratic institutions and public discourse?\",\n",
        "    \"What are the ethical implications of utilizing gene-editing technologies like CRISPR in human embryos?\",\n",
        "    \"How can sustainable urban development be achieved without compromising economic growth and infrastructural expansion?\",\n",
        "    \"What are the cognitive and psychological consequences of excessive screen time among adolescents in the digital age?\",\n",
        "    \"To what extent does climate change influence the frequency and intensity of meteorological anomalies worldwide?\",\n",
        "    \"How do multinational corporations navigate complex regulatory environments while maintaining corporate social responsibility?\",\n",
        "    \"In what manner does linguistic relativism affect cross-cultural communication and perception?\",\n",
        "    \"What are the long-term economic repercussions of widespread automation on labor markets and income inequality?\",\n",
        "    \"Suppose Earth's gravity were 10% weaker—what changes would you predict in human anatomy, architecture, and transportation?\",\n",
        "    \"Representatives for the National Rifle Association did not respond to a request for comment.\"\n",
        "]\n",
        "\n",
        "for question in questions:\n",
        "    generated_paraphrases = generate_paraphrases(question, num_return_sequences=3, num_beams=5)\n",
        "    print(f\"Question: {question}\")\n",
        "    print(\"Generated Paraphrases:\")\n",
        "    for idx, para in enumerate(generated_paraphrases, 1):\n",
        "        print(f\"{idx}: {para}\")\n",
        "    print(\"\\n\")"
      ],
      "metadata": {
        "colab": {
          "base_uri": "https://localhost:8080/"
        },
        "id": "1rid5GSPNndG",
        "outputId": "3ec0be84-6377-4a65-ac46-3a6a4e87054d"
      },
      "execution_count": null,
      "outputs": [
        {
          "output_type": "stream",
          "name": "stdout",
          "text": [
            "Question: What are the primary ramifications of implementing artificial intelligence in critical decision-making sectors such as healthcare and criminal justice?\n",
            "Generated Paraphrases:\n",
            "1: In what ways could the use of artificial intelligence impact healthcare and criminal justice systems, and what are the potential benefits and drawbacks of implementing artificial intelligence in these areas?\n",
            "2: How might healthcare and criminal justice systems be impacted by the use of artificial intelligence in decision-making processes?\n",
            "3: In what ways could the use of artificial intelligence impact healthcare and criminal justice systems, and what are the potential benefits and drawbacks of implementing artificial intelligence in these fields?\n",
            "\n",
            "\n",
            "Question: In what ways does globalization exacerbate socioeconomic disparities across various geopolitical regions?\n",
            "Generated Paraphrases:\n",
            "1: How does globalization contribute to the widening socioeconomic disparities in various geopolitical arenas?\n",
            "2: To what extent does globalization contribute to the widening of socioeconomic disparities in different geopolitics and across cultures?\n",
            "3: How does globalization contribute to the widening social-economic disparities in various geopolitical arenas?\n",
            "\n",
            "\n",
            "Question: How does the proliferation of misinformation on social media platforms undermine democratic institutions and public discourse?\n",
            "Generated Paraphrases:\n",
            "1: In what ways does the spread of misinformation on social media platforms undermine democratic institutions and public discourse?\n",
            "2: In what ways does the prevalence of misinformation on social media platforms undermine democratic institutions and public discourse?\n",
            "3: In what ways does the spread of misinformation on social media platforms negatively impact democratic institutions and public discourse?\n",
            "\n",
            "\n",
            "Question: What are the ethical implications of utilizing gene-editing technologies like CRISPR in human embryos?\n",
            "Generated Paraphrases:\n",
            "1: What are the ethical considerations surrounding the use of gene-editing technologies like CRISPR on human embryos?\n",
            "2: What are the ethical considerations of employing gene-editing technologies such as CRISPR on human embryos?\n",
            "3: What are the ethical considerations surrounding the use of gene-editing technologies like CRISPR on human embryos and how do they relate to ethical concerns?\n",
            "\n",
            "\n",
            "Question: How can sustainable urban development be achieved without compromising economic growth and infrastructural expansion?\n",
            "Generated Paraphrases:\n",
            "1: Is there a way to achieve sustainable urban development without compromising economic growth and infrastructural expansion, and if so, how?\n",
            "2: What strategies can be implemented to achieve sustainable urban development while ensuring economic growth and infrastructural expansion remain intact?\n",
            "3: Is there a way to achieve sustainable urban development without compromising economic growth and infrastructural expansion?\n",
            "\n",
            "\n",
            "Question: What are the cognitive and psychological consequences of excessive screen time among adolescents in the digital age?\n",
            "Generated Paraphrases:\n",
            "1: What are the cognitive and psychological effects of excessive screen time on adolescents in the digital age?\n",
            "2: What are the psychological and cognitive effects of excessive screen time on adolescents in the digital age?\n",
            "3: What are the cognitive and psychological effects of excessive screen time on adolescents in the digital era?\n",
            "\n",
            "\n",
            "Question: To what extent does climate change influence the frequency and intensity of meteorological anomalies worldwide?\n",
            "Generated Paraphrases:\n",
            "1: In what ways does climate change impact the occurrence of meteorological anomalies on a global scale?\n",
            "2: In what ways does climate change impact the frequency and intensity of meteorological anomalies on a global scale?\n",
            "3: How does climate change impact the frequency and intensity of meteorological anomalies on a global scale?\n",
            "\n",
            "\n",
            "Question: How do multinational corporations navigate complex regulatory environments while maintaining corporate social responsibility?\n",
            "Generated Paraphrases:\n",
            "1: What strategies do multinational corporations use to balance their regulatory compliance with corporate social responsibility in complex regulatory environments?\n",
            "2: What strategies do multinational corporations use to balance their regulatory compliance with corporate social responsibility in complex regulatory and regulatory environments?\n",
            "3: What strategies do multinational corporations use to balance regulatory compliance and corporate social responsibility in complex regulatory environments?\n",
            "\n",
            "\n",
            "Question: In what manner does linguistic relativism affect cross-cultural communication and perception?\n",
            "Generated Paraphrases:\n",
            "1: How does linguistic relativism influence cross-cultural communication and perception?\n",
            "2: How does linguistic relativism shape cross-cultural communication and perception?\n",
            "3: How does linguistic relativism influence cross-cultural communication and understanding?\n",
            "\n",
            "\n",
            "Question: What are the long-term economic repercussions of widespread automation on labor markets and income inequality?\n",
            "Generated Paraphrases:\n",
            "1: How will income inequality and the automation of labor markets be affected by the changes in economic theory over the long-term?\n",
            "2: How will income inequality and the automation of labor markets change over time, and what will be the economic effects?\n",
            "3: How will income inequality and the automation of labor markets be affected by the changes in economic theory over time?\n",
            "\n",
            "\n",
            "Question: Suppose Earth's gravity were 10% weaker—what changes would you predict in human anatomy, architecture, and transportation?\n",
            "Generated Paraphrases:\n",
            "1: In what ways would human anatomy, architecture, and transportation be altered if Earth's gravity were 10% less than it is currently?\n",
            "2: In what ways would human anatomy, architecture, and transportation be altered if Earth's gravity was 10% less than it is now?\n",
            "3: In what ways would human anatomy, architecture, and transportation be altered if Earth's gravity was 10% less than it is today?\n",
            "\n",
            "\n",
            "Question: Representatives for the National Rifle Association did not respond to a request for comment.\n",
            "Generated Paraphrases:\n",
            "1: Representatives for the National Rifle Association failed to provide a response to a comment request.\n",
            "2: The National Rifle Association's representatives failed to respond to a comment request.\n",
            "3: Representatives for the National Rifle Association failed to respond to a request for comment.\n",
            "\n",
            "\n"
          ]
        }
      ]
    },
    {
      "cell_type": "markdown",
      "source": [
        "# Testing for T5_1000"
      ],
      "metadata": {
        "id": "hJ1chGwAPcyT"
      }
    },
    {
      "cell_type": "code",
      "source": [
        "limited_model_dir = \"./t5_small_limited_final\"\n",
        "\n",
        "model = T5ForConditionalGeneration.from_pretrained(limited_model_dir)\n",
        "tokenizer = T5Tokenizer.from_pretrained(limited_model_dir)"
      ],
      "metadata": {
        "id": "EkUwWYC9QE1a"
      },
      "execution_count": null,
      "outputs": []
    },
    {
      "cell_type": "code",
      "source": [
        "import os\n",
        "limited_vocab_list = []\n",
        "with open(os.path.join(limited_model_dir, \"limited_vocab_list.txt\"), \"r\") as file:\n",
        "    for line in file:\n",
        "        limited_vocab_list.append(line.strip())"
      ],
      "metadata": {
        "id": "eCICPQmeIALz"
      },
      "execution_count": null,
      "outputs": []
    },
    {
      "cell_type": "code",
      "source": [
        "import torch\n",
        "\n",
        "def generate_paraphrase_limited_vocab(model, tokenizer, limited_vocab_list, input_text,\n",
        "                                      max_length=64, num_beams=5):\n",
        "\n",
        "    model.eval()\n",
        "    prefix = \"paraphrase: \"\n",
        "    input_text_with_prefix = prefix + input_text\n",
        "\n",
        "    input_ids = tokenizer.encode(input_text_with_prefix, return_tensors=\"pt\")\n",
        "\n",
        "    unk_token_id = tokenizer.unk_token_id\n",
        "    filtered_input_ids = []\n",
        "    for id in input_ids[0]:\n",
        "        token = tokenizer.convert_ids_to_tokens([id.item()])[0]\n",
        "        if token in limited_vocab_list or id == tokenizer.pad_token_id:\n",
        "            filtered_input_ids.append(id.item())\n",
        "        else:\n",
        "            filtered_input_ids.append(unk_token_id)\n",
        "\n",
        "    filtered_input_ids = torch.tensor([filtered_input_ids])\n",
        "\n",
        "    with torch.no_grad():\n",
        "        outputs = model.generate(\n",
        "            filtered_input_ids,\n",
        "            max_length=max_length,\n",
        "            num_beams=num_beams,\n",
        "            early_stopping=True,\n",
        "            num_return_sequences=1,\n",
        "        )\n",
        "\n",
        "    paraphrased_text = tokenizer.decode(outputs[0], skip_special_tokens=True)\n",
        "    return paraphrased_text\n",
        "\n",
        "\n",
        "def generate_paraphrase_full_vocab(model, tokenizer, input_text, max_length=64, num_beams=5):\n",
        "    \"\"\"\n",
        "    Generate paraphrase by encoding the input text using the full/original tokenizer (no vocab restriction).\n",
        "    \"\"\"\n",
        "    model.eval()\n",
        "    prefix = \"paraphrase: \"\n",
        "    input_text_with_prefix = prefix + input_text\n",
        "\n",
        "    input_ids = tokenizer.encode(input_text_with_prefix, return_tensors=\"pt\")\n",
        "\n",
        "    with torch.no_grad():\n",
        "        outputs = model.generate(\n",
        "            input_ids,\n",
        "            max_length=max_length,\n",
        "            num_beams=num_beams,\n",
        "            early_stopping=True,\n",
        "            num_return_sequences=1,\n",
        "        )\n",
        "\n",
        "    paraphrased_text = tokenizer.decode(outputs[0], skip_special_tokens=True)\n",
        "    return paraphrased_text"
      ],
      "metadata": {
        "id": "BND9OfxINwDk"
      },
      "execution_count": null,
      "outputs": []
    },
    {
      "cell_type": "code",
      "source": [
        "questions = [\n",
        "    \"In what ways does globalization exacerbate socioeconomic disparities across various geopolitical regions?\",\n",
        "    \"How does the proliferation of misinformation on social media platforms undermine democratic institutions and public discourse?\",\n",
        "    \"How can sustainable urban development be achieved without compromising economic growth and infrastructural expansion?\",\n",
        "    \"What are the cognitive and psychological consequences of excessive screen time among adolescents in the digital age?\",\n",
        "    \"To what extent does climate change influence the frequency and intensity of meteorological anomalies worldwide?\",\n",
        "    \"How do multinational corporations navigate complex regulatory environments while maintaining corporate social responsibility?\",\n",
        "    \"In what manner does linguistic relativism affect cross-cultural communication and perception?\",\n",
        "]\n",
        "\n",
        "for question in questions:\n",
        "    generated_paraphrase = generate_paraphrase_limited_vocab(model,tokenizer,limited_vocab_list, question)\n",
        "    print(f\"Question: {question}\")\n",
        "    print(f\"Generated Paraphrase:{generated_paraphrase}\")\n",
        "    print(\"\\n\")\n"
      ],
      "metadata": {
        "id": "XKLnk3HlQB0-"
      },
      "execution_count": null,
      "outputs": []
    },
    {
      "cell_type": "code",
      "source": [
        "questions = [\n",
        "    \"In what ways does globalization exacerbate socioeconomic disparities across various geopolitical regions?\",\n",
        "    \"How does the proliferation of misinformation on social media platforms undermine democratic institutions and public discourse?\",\n",
        "    \"How can sustainable urban development be achieved without compromising economic growth and infrastructural expansion?\",\n",
        "    \"What are the cognitive and psychological consequences of excessive screen time among adolescents in the digital age?\",\n",
        "    \"To what extent does climate change influence the frequency and intensity of meteorological anomalies worldwide?\",\n",
        "    \"How do multinational corporations navigate complex regulatory environments while maintaining corporate social responsibility?\",\n",
        "    \"In what manner does linguistic relativism affect cross-cultural communication and perception?\",\n",
        "]\n",
        "\n",
        "for question in questions:\n",
        "    generated_paraphrase = generate_paraphrase_full_vocab(model,tokenizer,limited_vocab_list, question)\n",
        "    print(f\"Question: {question}\")\n",
        "    print(f\"Generated Paraphrase:{generated_paraphrase}\")\n",
        "    print(\"\\n\")\n"
      ],
      "metadata": {
        "id": "R8-Mnu8KH378"
      },
      "execution_count": null,
      "outputs": []
    }
  ]
}